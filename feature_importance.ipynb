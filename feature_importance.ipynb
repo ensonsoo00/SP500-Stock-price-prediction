{
 "cells": [
  {
   "cell_type": "code",
   "execution_count": 27,
   "metadata": {},
   "outputs": [
    {
     "name": "stdout",
     "output_type": "stream",
     "text": [
      "DATA LOADED\n",
      "Input Shape: (505, 78)\n",
      "Output Shape: (505, 1)\n",
      "Input Keys: ['Recent_price', 'PER', 'PSR', 'PBR', 'PEG', 'forPER', 'Beta', 'AnnualDividendRate', 'ROE(%)', 'ROA(%)', 'ProfitMargin(%)', 'TotalCash', 'TotalDebt', 'intangibleAssets', 'capitalSurplus', 'totalLiab', 'totalStockholderEquity', 'otherCurrentLiab', 'totalAssets', 'commonStock', 'otherCurrentAssets', 'retainedEarnings', 'otherLiab', 'goodWill', 'treasuryStock', 'otherAssets', 'cash', 'totalCurrentLiabilities', 'otherStockholderEquity', 'propertyPlantEquipment', 'totalCurrentAssets', 'longTermInvestments', 'netTangibleAssets', 'netReceivables', 'longTermDebt', 'inventory', 'accountsPayable', 'deferredLongTermAssetCharges', 'shortLongTermDebt', 'shortTermInvestments', 'minorityInterest', 'researchDevelopment', 'incomeBeforeTax', 'minorityInterest', 'netIncome', 'sellingGeneralAdministrative', 'grossProfit', 'ebit', 'operatingIncome', 'otherOperatingExpenses', 'interestExpense', 'incomeTaxExpense', 'totalRevenue', 'totalOperatingExpenses', 'costOfRevenue', 'totalOtherIncomeExpenseNet', 'netIncomeFromContinuingOps', 'netIncomeApplicableToCommonShares', 'investments', 'changeToLiabilities', 'totalCashflowsFromInvestingActivities', 'netBorrowings', 'totalCashFromFinancingActivities', 'changeToOperatingActivities', 'issuanceOfStock', 'netIncome', 'changeInCash', 'repurchaseOfStock', 'effectOfExchangeRate', 'totalCashFromOperatingActivities', 'depreciation', 'dividendsPaid', 'changeToInventory', 'changeToAccountReceivables', 'changeToNetincome', 'capitalExpenditures', 'otherCashflowsFromInvestingActivities', 'otherCashflowsFromFinancingActivities']\n",
      "Output Keys: marketCap\n"
     ]
    }
   ],
   "source": [
    "# loading data\n",
    "import preprocessing as loader\n",
    "\n",
    "X,y,keys_X,keys_y = loader.extractData()\n",
    "\n",
    "print(\"DATA LOADED\")\n",
    "print(\"Input Shape:\",X.shape)\n",
    "print(\"Output Shape:\", y.shape)\n",
    "print(\"Input Keys:\",keys_X)\n",
    "print(\"Output Keys:\",keys_y)"
   ]
  },
  {
   "cell_type": "code",
   "execution_count": 6,
   "metadata": {},
   "outputs": [],
   "source": [
    "from models.lasso.lasso import LassoRegression\n",
    "from models.mlr.mlr import MLR\n",
    "from models.tree.tree import Tree\n",
    "import pandas as pd\n",
    "import numpy as np\n",
    "from sklearn.model_selection import KFold\n",
    "from sklearn.preprocessing import StandardScaler"
   ]
  },
  {
   "cell_type": "code",
   "execution_count": 7,
   "metadata": {},
   "outputs": [],
   "source": [
    "def standardize(X_train, X_test, y_train, y_test):\n",
    "    \"\"\"\n",
    "    Standardize the training and testing features/target data using StandardScaler\n",
    "    \"\"\"\n",
    "    scaler = StandardScaler()\n",
    "\n",
    "    scaler.fit(X_train)\n",
    "    # scale training and testing features data\n",
    "    X_train = scaler.transform(X_train)\n",
    "    X_test = scaler.transform(X_test)\n",
    "\n",
    "    # scale training and testing target data\n",
    "    scaler.fit(np.array(y_train).reshape(-1,1))\n",
    "    y_train = scaler.transform(np.array(y_train).reshape(-1,1)).reshape(-1)\n",
    "    y_test = scaler.transform(np.array(y_test).reshape(-1,1)).reshape(-1)\n",
    "    return X_train, X_test, y_train, y_test\n"
   ]
  },
  {
   "cell_type": "code",
   "execution_count": 8,
   "metadata": {},
   "outputs": [],
   "source": [
    "#perform a k fold train-test split\n",
    "n_splits = 20\n",
    "kf = KFold(n_splits=n_splits,random_state=42,shuffle=True)\n",
    "\n",
    "# keep track of (best features, r2 scores) of each model in each split\n",
    "model_res = {\"MLR\":[], \"Lasso\":[], \"Tree\":[]}\n",
    "\n",
    "#iterate over k folt train-test split\n",
    "for i, (train_index, test_index) in enumerate(kf.split(X)):\n",
    "    X_train = X[train_index,:]\n",
    "    X_test = X[test_index,:]\n",
    "    y_train = y[train_index].reshape(-1)\n",
    "    y_test = y[test_index].reshape(-1)\n",
    "    \n",
    "    X_train, X_test, y_train, y_test = standardize(X_train, X_test, y_train, y_test)\n",
    "    \n",
    "    #run each model\n",
    "    mlr = MLR(X_train,X_test,y_train,y_test, keys_X)\n",
    "    model_res[\"MLR\"].append((mlr.best_features, mlr.error()))\n",
    "    \n",
    "    lasso = LassoRegression(X_train,X_test,y_train,y_test,keys_X)\n",
    "    model_res[\"Lasso\"].append((lasso.nonzero_coef_features, lasso.error()))\n",
    "    \n",
    "    tree = Tree(X_train,X_test,y_train,y_test, keys_X)\n",
    "    model_res[\"Tree\"].append((tree.best_features, tree.error()))\n",
    "    "
   ]
  },
  {
   "cell_type": "code",
   "execution_count": 9,
   "metadata": {},
   "outputs": [
    {
     "name": "stdout",
     "output_type": "stream",
     "text": [
      "Lasso best features with testing score: 0.9553878227693062\n",
      "['researchDevelopment', 'repurchaseOfStock', 'totalCashFromOperatingActivities', 'netIncomeFromContinuingOps', 'commonStock', 'grossProfit', 'ebit', 'changeToLiabilities', 'changeToAccountReceivables']\n"
     ]
    }
   ],
   "source": [
    "# important nonzero coefficient features from Lasso\n",
    "best_lasso = max(model_res[\"Lasso\"], key=lambda x: x[1])\n",
    "print(f\"Lasso best features with testing score: {best_lasso[1]}\")\n",
    "lasso_best_features = best_lasso[0]\n",
    "print(lasso_best_features)"
   ]
  },
  {
   "cell_type": "code",
   "execution_count": 10,
   "metadata": {},
   "outputs": [
    {
     "name": "stdout",
     "output_type": "stream",
     "text": [
      "Multiple linear regression best features with testing score: 0.9539033705052715\n",
      "['operatingIncome', 'netIncomeFromContinuingOps', 'incomeBeforeTax', 'totalCurrentLiabilities', 'totalOtherIncomeExpenseNet', 'totalOperatingExpenses', 'totalAssets', 'incomeTaxExpense', 'costOfRevenue', 'totalRevenue', 'accountsPayable', 'grossProfit', 'otherLiab', 'totalCashFromFinancingActivities', 'ebit', 'totalCashflowsFromInvestingActivities', 'totalLiab', 'changeInCash', 'otherAssets', 'netIncomeApplicableToCommonShares', 'totalCashFromOperatingActivities', 'cash', 'netIncome', 'otherCurrentLiab', 'longTermDebt', 'totalCurrentAssets', 'changeToNetincome', 'retainedEarnings', 'treasuryStock', 'otherStockholderEquity', 'netBorrowings', 'propertyPlantEquipment', 'otherCashflowsFromFinancingActivities', 'sellingGeneralAdministrative', 'capitalExpenditures', 'shortTermInvestments', 'effectOfExchangeRate', 'forPER', 'intangibleAssets', 'commonStock', 'netReceivables', 'changeToLiabilities', 'goodWill', 'investments', 'repurchaseOfStock', 'dividendsPaid', 'netTangibleAssets', 'changeToAccountReceivables', 'otherCashflowsFromInvestingActivities', 'PSR', 'totalStockholderEquity', 'PBR', 'Recent_price', 'depreciation', 'changeToInventory', 'ProfitMargin(%)', 'researchDevelopment', 'ROA(%)', 'interestExpense', 'changeToOperatingActivities', 'capitalSurplus', 'inventory', 'otherCurrentAssets', 'TotalCash', 'deferredLongTermAssetCharges', 'PER', 'AnnualDividendRate', 'TotalDebt', 'issuanceOfStock', 'Beta', 'otherOperatingExpenses', 'minorityInterest', 'shortLongTermDebt', 'PEG', 'longTermInvestments', 'ROE(%)']\n"
     ]
    }
   ],
   "source": [
    "# important nonzero coefficient features from multiple linear regression\n",
    "best_mlr = max(model_res[\"MLR\"], key=lambda x: x[1])\n",
    "print(f\"Multiple linear regression best features with testing score: {best_mlr[1]}\")\n",
    "mlr_best_features = best_mlr[0]\n",
    "print(mlr_best_features)"
   ]
  },
  {
   "cell_type": "code",
   "execution_count": 11,
   "metadata": {},
   "outputs": [
    {
     "name": "stdout",
     "output_type": "stream",
     "text": [
      "Random forest best features with testing score: 0.9769733713422849\n",
      "['incomeBeforeTax', 'totalCashFromOperatingActivities', 'netIncomeApplicableToCommonShares', 'ebit', 'researchDevelopment', 'repurchaseOfStock', 'commonStock', 'incomeTaxExpense', 'totalStockholderEquity', 'totalRevenue', 'grossProfit', 'netIncomeFromContinuingOps', 'totalCashFromFinancingActivities', 'netIncome', 'netTangibleAssets', 'capitalExpenditures', 'operatingIncome', 'effectOfExchangeRate', 'PBR', 'forPER', 'totalCashflowsFromInvestingActivities', 'changeToNetincome', 'changeToAccountReceivables', 'cash', 'netBorrowings', 'PSR', 'Recent_price', 'depreciation', 'goodWill', 'treasuryStock', 'dividendsPaid', 'totalOperatingExpenses', 'retainedEarnings', 'totalOtherIncomeExpenseNet', 'sellingGeneralAdministrative', 'ROE(%)', 'costOfRevenue', 'totalCurrentAssets', 'shortTermInvestments', 'ROA(%)', 'netReceivables', 'otherCurrentLiab', 'PER', 'totalAssets', 'otherCurrentAssets', 'otherStockholderEquity', 'capitalSurplus', 'propertyPlantEquipment', 'changeInCash', 'changeToInventory', 'longTermInvestments', 'interestExpense', 'PEG', 'otherCashflowsFromFinancingActivities', 'otherCashflowsFromInvestingActivities', 'inventory', 'Beta', 'deferredLongTermAssetCharges', 'TotalCash', 'minorityInterest', 'longTermDebt', 'totalCurrentLiabilities', 'changeToLiabilities', 'TotalDebt', 'changeToOperatingActivities', 'ProfitMargin(%)', 'AnnualDividendRate', 'totalLiab', 'shortLongTermDebt', 'issuanceOfStock', 'accountsPayable', 'otherAssets', 'intangibleAssets', 'otherLiab', 'investments', 'otherOperatingExpenses']\n"
     ]
    }
   ],
   "source": [
    "# important nonzero coefficient features from multiple linear regression\n",
    "best_tree = max(model_res[\"Tree\"], key=lambda x: x[1])\n",
    "print(f\"Random forest best features with testing score: {best_tree[1]}\")\n",
    "tree_best_features = best_tree[0]\n",
    "print(tree_best_features)"
   ]
  },
  {
   "cell_type": "code",
   "execution_count": 26,
   "metadata": {},
   "outputs": [
    {
     "data": {
      "text/plain": [
       "{'ebit', 'grossProfit', 'netIncomeFromContinuingOps'}"
      ]
     },
     "execution_count": 26,
     "metadata": {},
     "output_type": "execute_result"
    }
   ],
   "source": [
    "# common important features between top 15 important features from lasso, random forest, and multiple linear regression\n",
    "top_n = 15\n",
    "set(mlr_best_features[:top_n]).intersection(set(tree_best_features[:top_n]), set(lasso_best_features[:top_n]))\n",
    "\n"
   ]
  },
  {
   "cell_type": "code",
   "execution_count": 13,
   "metadata": {},
   "outputs": [
    {
     "data": {
      "text/plain": [
       "['operatingIncome',\n",
       " 'netIncomeFromContinuingOps',\n",
       " 'incomeBeforeTax',\n",
       " 'totalCurrentLiabilities',\n",
       " 'totalOtherIncomeExpenseNet',\n",
       " 'totalOperatingExpenses',\n",
       " 'totalAssets',\n",
       " 'incomeTaxExpense',\n",
       " 'costOfRevenue',\n",
       " 'totalRevenue']"
      ]
     },
     "execution_count": 13,
     "metadata": {},
     "output_type": "execute_result"
    }
   ],
   "source": [
    "# top 10 most important features from multiple linear regression\n",
    "mlr_best_features[:10]"
   ]
  },
  {
   "cell_type": "code",
   "execution_count": 14,
   "metadata": {},
   "outputs": [
    {
     "data": {
      "text/plain": [
       "['researchDevelopment',\n",
       " 'repurchaseOfStock',\n",
       " 'totalCashFromOperatingActivities',\n",
       " 'netIncomeFromContinuingOps',\n",
       " 'commonStock',\n",
       " 'grossProfit',\n",
       " 'ebit',\n",
       " 'changeToLiabilities',\n",
       " 'changeToAccountReceivables']"
      ]
     },
     "execution_count": 14,
     "metadata": {},
     "output_type": "execute_result"
    }
   ],
   "source": [
    "# top 10 most important features from lasso regression\n",
    "lasso_best_features[:10]"
   ]
  },
  {
   "cell_type": "code",
   "execution_count": 15,
   "metadata": {},
   "outputs": [
    {
     "data": {
      "text/plain": [
       "['incomeBeforeTax',\n",
       " 'totalCashFromOperatingActivities',\n",
       " 'netIncomeApplicableToCommonShares',\n",
       " 'ebit',\n",
       " 'researchDevelopment',\n",
       " 'repurchaseOfStock',\n",
       " 'commonStock',\n",
       " 'incomeTaxExpense',\n",
       " 'totalStockholderEquity',\n",
       " 'totalRevenue']"
      ]
     },
     "execution_count": 15,
     "metadata": {},
     "output_type": "execute_result"
    }
   ],
   "source": [
    "# top 10 most important features from random forest\n",
    "tree_best_features[:10]"
   ]
  },
  {
   "cell_type": "code",
   "execution_count": null,
   "metadata": {},
   "outputs": [],
   "source": []
  }
 ],
 "metadata": {
  "kernelspec": {
   "display_name": "base",
   "language": "python",
   "name": "python3"
  },
  "language_info": {
   "codemirror_mode": {
    "name": "ipython",
    "version": 3
   },
   "file_extension": ".py",
   "mimetype": "text/x-python",
   "name": "python",
   "nbconvert_exporter": "python",
   "pygments_lexer": "ipython3",
   "version": "3.8.8"
  },
  "orig_nbformat": 4
 },
 "nbformat": 4,
 "nbformat_minor": 2
}
